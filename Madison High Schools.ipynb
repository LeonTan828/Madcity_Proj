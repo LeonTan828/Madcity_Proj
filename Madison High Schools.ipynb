{
 "cells": [
  {
   "cell_type": "code",
   "execution_count": 1,
   "metadata": {},
   "outputs": [],
   "source": [
    "import pandas"
   ]
  },
  {
   "cell_type": "code",
   "execution_count": 2,
   "metadata": {},
   "outputs": [],
   "source": [
    "hsdict = {'Name': ['Memorial High', 'West High', 'East High', 'Lafollette High', 'Middleton High'],\n",
    "         'Latitude': [43.064065, 43.069130, 43.097832, 43.063303, 43.100286],\n",
    "         'Longitude': [-89.500890, -89.425793, -89.354269, -89.319177, -89.507037],\n",
    "         'College Readiness Index': [37.1, 34.4, 29.2, 21.6, 55.3],\n",
    "         'Graduation Rate': [89, 93, 81, 84, 93]}"
   ]
  },
  {
   "cell_type": "code",
   "execution_count": 3,
   "metadata": {},
   "outputs": [],
   "source": [
    "hstable = pandas.DataFrame(hsdict)"
   ]
  },
  {
   "cell_type": "code",
   "execution_count": 4,
   "metadata": {},
   "outputs": [
    {
     "data": {
      "text/html": [
       "<div>\n",
       "<style scoped>\n",
       "    .dataframe tbody tr th:only-of-type {\n",
       "        vertical-align: middle;\n",
       "    }\n",
       "\n",
       "    .dataframe tbody tr th {\n",
       "        vertical-align: top;\n",
       "    }\n",
       "\n",
       "    .dataframe thead th {\n",
       "        text-align: right;\n",
       "    }\n",
       "</style>\n",
       "<table border=\"1\" class=\"dataframe\">\n",
       "  <thead>\n",
       "    <tr style=\"text-align: right;\">\n",
       "      <th></th>\n",
       "      <th>Name</th>\n",
       "      <th>Latitude</th>\n",
       "      <th>Longitude</th>\n",
       "      <th>College Readiness Index</th>\n",
       "      <th>Graduation Rate</th>\n",
       "    </tr>\n",
       "  </thead>\n",
       "  <tbody>\n",
       "    <tr>\n",
       "      <th>0</th>\n",
       "      <td>Memorial High</td>\n",
       "      <td>43.064065</td>\n",
       "      <td>-89.500890</td>\n",
       "      <td>37.1</td>\n",
       "      <td>89</td>\n",
       "    </tr>\n",
       "    <tr>\n",
       "      <th>1</th>\n",
       "      <td>West High</td>\n",
       "      <td>43.069130</td>\n",
       "      <td>-89.425793</td>\n",
       "      <td>34.4</td>\n",
       "      <td>93</td>\n",
       "    </tr>\n",
       "    <tr>\n",
       "      <th>2</th>\n",
       "      <td>East High</td>\n",
       "      <td>43.097832</td>\n",
       "      <td>-89.354269</td>\n",
       "      <td>29.2</td>\n",
       "      <td>81</td>\n",
       "    </tr>\n",
       "    <tr>\n",
       "      <th>3</th>\n",
       "      <td>Lafollette High</td>\n",
       "      <td>43.063303</td>\n",
       "      <td>-89.319177</td>\n",
       "      <td>21.6</td>\n",
       "      <td>84</td>\n",
       "    </tr>\n",
       "    <tr>\n",
       "      <th>4</th>\n",
       "      <td>Middleton High</td>\n",
       "      <td>43.100286</td>\n",
       "      <td>-89.507037</td>\n",
       "      <td>55.3</td>\n",
       "      <td>93</td>\n",
       "    </tr>\n",
       "  </tbody>\n",
       "</table>\n",
       "</div>"
      ],
      "text/plain": [
       "              Name   Latitude  Longitude  College Readiness Index  \\\n",
       "0    Memorial High  43.064065 -89.500890                     37.1   \n",
       "1        West High  43.069130 -89.425793                     34.4   \n",
       "2        East High  43.097832 -89.354269                     29.2   \n",
       "3  Lafollette High  43.063303 -89.319177                     21.6   \n",
       "4   Middleton High  43.100286 -89.507037                     55.3   \n",
       "\n",
       "   Graduation Rate  \n",
       "0               89  \n",
       "1               93  \n",
       "2               81  \n",
       "3               84  \n",
       "4               93  "
      ]
     },
     "execution_count": 4,
     "metadata": {},
     "output_type": "execute_result"
    }
   ],
   "source": [
    "hstable"
   ]
  },
  {
   "cell_type": "code",
   "execution_count": 5,
   "metadata": {},
   "outputs": [],
   "source": [
    "hstable.to_csv(\"Madison Highschool.csv\", encoding = 'utf-8', index = False)"
   ]
  },
  {
   "cell_type": "code",
   "execution_count": null,
   "metadata": {},
   "outputs": [],
   "source": []
  }
 ],
 "metadata": {
  "kernelspec": {
   "display_name": "Python 3",
   "language": "python",
   "name": "python3"
  },
  "language_info": {
   "codemirror_mode": {
    "name": "ipython",
    "version": 3
   },
   "file_extension": ".py",
   "mimetype": "text/x-python",
   "name": "python",
   "nbconvert_exporter": "python",
   "pygments_lexer": "ipython3",
   "version": "3.7.3"
  }
 },
 "nbformat": 4,
 "nbformat_minor": 2
}
